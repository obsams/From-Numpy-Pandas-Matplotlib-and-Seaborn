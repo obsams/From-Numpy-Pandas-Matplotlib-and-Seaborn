{
 "cells": [
  {
   "cell_type": "markdown",
   "metadata": {
    "deletable": false
   },
   "source": [
    "### Requirement FR1 - Develop a function to find the arithmetic mean"
   ]
  },
  {
   "cell_type": "code",
   "execution_count": 2,
   "metadata": {},
   "outputs": [
    {
     "data": {
      "text/plain": [
       "14.5"
      ]
     },
     "execution_count": 2,
     "metadata": {},
     "output_type": "execute_result"
    }
   ],
   "source": [
    "input_data = [29, 17, 28, 6, 14, 7, 4, 27, 21, 15, 10, 16, 24, 26, 3, 11, 13, 8, 23, 9, 0, 22, 12, 2, 18, 19, 5, 1, 20, 25]\n",
    "\n",
    "def calc_mean(values_list):\n",
    "    \"\"\"\n",
    "    Calculates the mean of a given array or list.\n",
    "\n",
    "    @parameter values_list - is a list of integer/float values.\n",
    "\n",
    "    @return - the mean of the array or list\n",
    "    \"\"\"\n",
    "    sum_of_numbers = sum(values_list)\n",
    "    cnt_of_numbers = len(values_list)\n",
    "    \n",
    "    mean = sum_of_numbers / cnt_of_numbers\n",
    "    return float(mean)\n",
    "\n",
    "mean = calc_mean(input_data)\n",
    "mean"
   ]
  },
  {
   "cell_type": "markdown",
   "metadata": {
    "deletable": false
   },
   "source": [
    "### Requirement FR2 - Develop a function to find the standard deviation\n"
   ]
  },
  {
   "cell_type": "code",
   "execution_count": 3,
   "metadata": {},
   "outputs": [
    {
     "data": {
      "text/plain": [
       "8.65544144839919"
      ]
     },
     "execution_count": 3,
     "metadata": {},
     "output_type": "execute_result"
    }
   ],
   "source": [
    "def sqrt(n):\n",
    "    \"\"\"\n",
    "    Calculates the Square Root of a given value.\n",
    "\n",
    "    @parameter n - any integer/float value\n",
    "\n",
    "    @return - the square root n\n",
    "    \"\"\"\n",
    "    return n ** 0.5\n",
    "\n",
    "def calc_standard_deviation(mean, values_list):\n",
    "    \"\"\"\n",
    "    Calculates the Standard Deviation \n",
    "    of a list or array.\n",
    "\n",
    "    @parameter mean - any integer/float value\n",
    "    @parameter values_list - is a list or array of values\n",
    "    \n",
    "\n",
    "    @return - the square root n\n",
    "    \"\"\"\n",
    "    # Compute sum squared differences with mean.\n",
    "    sqDiff = [abs(val-mean)**2 for val in values_list]\n",
    "    # Calculating Variance\n",
    "    variance = sum(sqDiff) / len(values_list)\n",
    "    # Calculating Standard Deviation\n",
    "    standardDeviation = sqrt(variance)\n",
    "    return standardDeviation\n",
    "\n",
    "stdv = calc_standard_deviation(mean, input_data)\n",
    "stdv"
   ]
  },
  {
   "cell_type": "markdown",
   "metadata": {
    "deletable": false
   },
   "source": [
    "### Requirement FR3 - Develop a function to find the median "
   ]
  },
  {
   "cell_type": "code",
   "execution_count": 4,
   "metadata": {},
   "outputs": [
    {
     "data": {
      "text/plain": [
       "14.5"
      ]
     },
     "execution_count": 4,
     "metadata": {},
     "output_type": "execute_result"
    }
   ],
   "source": [
    "# add code here\n",
    "def median(values_list):\n",
    "    \"\"\"\n",
    "    Find the median of a list of values.\n",
    "\n",
    "    @parameter values_list - is a list of values.\n",
    "\n",
    "    @return - the median of given list of values\n",
    "    \"\"\"\n",
    "\n",
    "    #Ensuring list is sorted\n",
    "    sorted_values = sorted(values_list)\n",
    "    \n",
    "    if len(values_list) % 2 == 0:  # Checking if the length is even\n",
    "        # Applying formula which is sum of middle two divided by 2\n",
    "        return (sorted_values[len(sorted_values) // 2] + sorted_values[(len(sorted_values) - 1) // 2]) / 2\n",
    "    else:\n",
    "        # If length is odd then get middle value\n",
    "        return( sorted_values[len(sorted_values) // 2])\n",
    "\n",
    "median(input_data)"
   ]
  },
  {
   "cell_type": "markdown",
   "metadata": {
    "deletable": false
   },
   "source": [
    "### Requirement FR4 - Develop a function to find the skewness"
   ]
  },
  {
   "cell_type": "code",
   "execution_count": 5,
   "metadata": {},
   "outputs": [
    {
     "data": {
      "text/plain": [
       "0.0"
      ]
     },
     "execution_count": 5,
     "metadata": {},
     "output_type": "execute_result"
    }
   ],
   "source": [
    "# add code here\n",
    "def skewness(values_list):\n",
    "    \"\"\"\n",
    "    Find the skewness of a list of values.\n",
    "\n",
    "    @parameter values_list - is a list of values.\n",
    "\n",
    "    @return - the skewness of a given list of valuesusing the statistics generated from FR1 to FR3\n",
    "    \"\"\"\n",
    "    e = calc_mean(values_list)\n",
    "    f = median(values_list)\n",
    "    g = calc_standard_deviation(mean, values_list)\n",
    "    h = (3*(e-f))/(g) # skewness= 3(Mean-Median)/Standard Deviation\n",
    "    return h\n",
    "\n",
    "skewness(input_data) "
   ]
  },
  {
   "cell_type": "markdown",
   "metadata": {
    "deletable": false
   },
   "source": [
    "### Requirement FR5 - Develop a function to read a single column from a CSV file"
   ]
  },
  {
   "cell_type": "code",
   "execution_count": 6,
   "metadata": {},
   "outputs": [
    {
     "name": "stdout",
     "output_type": "stream",
     "text": [
      "File \"task1.csv\" not found\n"
     ]
    }
   ],
   "source": [
    "# add code here\n",
    "def read_csv_column(file_name, column_index):\n",
    "    \"\"\"\n",
    "    function to read a single specified \n",
    "    column of data from a CSV file\n",
    "\n",
    "    @parameter file_name - name of file to read\n",
    "    @parameter column_index - index or number of columns\n",
    "    \n",
    "    @return - target column as a list\n",
    "    \"\"\"\n",
    "    try:\n",
    "        with open(file_name, 'r') as f:\n",
    "            lines = f.readlines()\n",
    "\n",
    "            # check if column_index is in range 0 - n-1\n",
    "            no_cols = len(lines[0].split(','))\n",
    "            if column_index >= 0 and column_index <= (no_cols-1):\n",
    "                target_column = [row.split(',')[column_index].replace('\\n', '') for row in lines]\n",
    "                return target_column\n",
    "\n",
    "            # column_index not in range \n",
    "            # so return message to user\n",
    "            return 'Index out of range'\n",
    "    except FileNotFoundError:\n",
    "        print(f'File \"{file_name}\" not found')\n",
    "    \n",
    "read_csv_column('task1.csv', 1)"
   ]
  },
  {
   "cell_type": "markdown",
   "metadata": {
    "deletable": false
   },
   "source": [
    "### Requirement FR6 - Develop a function to read CSV data from a file into memory"
   ]
  },
  {
   "cell_type": "code",
   "execution_count": 7,
   "metadata": {},
   "outputs": [
    {
     "ename": "FileNotFoundError",
     "evalue": "[Errno 2] No such file or directory: 'task1.csv'",
     "output_type": "error",
     "traceback": [
      "\u001b[1;31m---------------------------------------------------------------------------\u001b[0m",
      "\u001b[1;31mFileNotFoundError\u001b[0m                         Traceback (most recent call last)",
      "\u001b[1;32mc:\\Users\\Samuel PC\\Downloads\\UFCFVQ-15-M_Programming_Task_1_Template_Complete.ipynb Cell 20'\u001b[0m in \u001b[0;36m<cell line: 26>\u001b[1;34m()\u001b[0m\n\u001b[0;32m     <a href='vscode-notebook-cell:/c%3A/Users/Samuel%20PC/Downloads/UFCFVQ-15-M_Programming_Task_1_Template_Complete.ipynb#ch0000019?line=22'>23</a>\u001b[0m             data_dict[target_col[\u001b[39m0\u001b[39m]] \u001b[39m=\u001b[39m [\u001b[39mfloat\u001b[39m(val) \u001b[39mfor\u001b[39;00m val \u001b[39min\u001b[39;00m target_col[\u001b[39m1\u001b[39m:]]\n\u001b[0;32m     <a href='vscode-notebook-cell:/c%3A/Users/Samuel%20PC/Downloads/UFCFVQ-15-M_Programming_Task_1_Template_Complete.ipynb#ch0000019?line=23'>24</a>\u001b[0m         \u001b[39mreturn\u001b[39;00m data_dict\n\u001b[1;32m---> <a href='vscode-notebook-cell:/c%3A/Users/Samuel%20PC/Downloads/UFCFVQ-15-M_Programming_Task_1_Template_Complete.ipynb#ch0000019?line=25'>26</a>\u001b[0m read_csv_into_memory(\u001b[39m'\u001b[39;49m\u001b[39mtask1.csv\u001b[39;49m\u001b[39m'\u001b[39;49m)\n",
      "\u001b[1;32mc:\\Users\\Samuel PC\\Downloads\\UFCFVQ-15-M_Programming_Task_1_Template_Complete.ipynb Cell 20'\u001b[0m in \u001b[0;36mread_csv_into_memory\u001b[1;34m(file_name)\u001b[0m\n\u001b[0;32m      <a href='vscode-notebook-cell:/c%3A/Users/Samuel%20PC/Downloads/UFCFVQ-15-M_Programming_Task_1_Template_Complete.ipynb#ch0000019?line=1'>2</a>\u001b[0m \u001b[39mdef\u001b[39;00m \u001b[39mread_csv_into_memory\u001b[39m(file_name):\n\u001b[0;32m      <a href='vscode-notebook-cell:/c%3A/Users/Samuel%20PC/Downloads/UFCFVQ-15-M_Programming_Task_1_Template_Complete.ipynb#ch0000019?line=2'>3</a>\u001b[0m     \u001b[39m\"\"\"\u001b[39;00m\n\u001b[0;32m      <a href='vscode-notebook-cell:/c%3A/Users/Samuel%20PC/Downloads/UFCFVQ-15-M_Programming_Task_1_Template_Complete.ipynb#ch0000019?line=3'>4</a>\u001b[0m \u001b[39m    function to read CSV data from a file into memory\u001b[39;00m\n\u001b[0;32m      <a href='vscode-notebook-cell:/c%3A/Users/Samuel%20PC/Downloads/UFCFVQ-15-M_Programming_Task_1_Template_Complete.ipynb#ch0000019?line=4'>5</a>\u001b[0m \n\u001b[1;32m   (...)\u001b[0m\n\u001b[0;32m      <a href='vscode-notebook-cell:/c%3A/Users/Samuel%20PC/Downloads/UFCFVQ-15-M_Programming_Task_1_Template_Complete.ipynb#ch0000019?line=7'>8</a>\u001b[0m \u001b[39m    @return - csv data in dictionary format\u001b[39;00m\n\u001b[0;32m      <a href='vscode-notebook-cell:/c%3A/Users/Samuel%20PC/Downloads/UFCFVQ-15-M_Programming_Task_1_Template_Complete.ipynb#ch0000019?line=8'>9</a>\u001b[0m \u001b[39m    \"\"\"\u001b[39;00m\n\u001b[1;32m---> <a href='vscode-notebook-cell:/c%3A/Users/Samuel%20PC/Downloads/UFCFVQ-15-M_Programming_Task_1_Template_Complete.ipynb#ch0000019?line=9'>10</a>\u001b[0m     \u001b[39mwith\u001b[39;00m \u001b[39mopen\u001b[39;49m(file_name, \u001b[39m'\u001b[39;49m\u001b[39mr\u001b[39;49m\u001b[39m'\u001b[39;49m) \u001b[39mas\u001b[39;00m f:\n\u001b[0;32m     <a href='vscode-notebook-cell:/c%3A/Users/Samuel%20PC/Downloads/UFCFVQ-15-M_Programming_Task_1_Template_Complete.ipynb#ch0000019?line=10'>11</a>\u001b[0m         lines \u001b[39m=\u001b[39m f\u001b[39m.\u001b[39mreadlines()\n\u001b[0;32m     <a href='vscode-notebook-cell:/c%3A/Users/Samuel%20PC/Downloads/UFCFVQ-15-M_Programming_Task_1_Template_Complete.ipynb#ch0000019?line=11'>12</a>\u001b[0m         \u001b[39m# finding total number of columns\u001b[39;00m\n",
      "\u001b[1;31mFileNotFoundError\u001b[0m: [Errno 2] No such file or directory: 'task1.csv'"
     ]
    }
   ],
   "source": [
    "# add code here\n",
    "def read_csv_into_memory(file_name):\n",
    "    \"\"\"\n",
    "    function to read CSV data from a file into memory\n",
    "\n",
    "    @parameter file_name - name of file to read\n",
    "    \n",
    "    @return - csv data in dictionary format\n",
    "    \"\"\"\n",
    "    with open(file_name, 'r') as f:\n",
    "        lines = f.readlines()\n",
    "        # finding total number of columns\n",
    "        no_cols = len(lines[0].split(','))\n",
    "        \n",
    "        data_dict = {}\n",
    "        \n",
    "        # get entire column based on index\n",
    "        for index in range(no_cols):\n",
    "            target_col = read_csv_column(file_name, index)\n",
    "            \n",
    "            # setting first value as dictionary key\n",
    "            # and assigning remaining data to that key  \n",
    "            data_dict[target_col[0]] = [float(val) for val in target_col[1:]]\n",
    "        return data_dict\n",
    "\n",
    "read_csv_into_memory('task1.csv')"
   ]
  },
  {
   "cell_type": "markdown",
   "metadata": {
    "deletable": false
   },
   "source": [
    "### Requirement FR7 - Develop a function to generate a set of statistics for a given data file"
   ]
  },
  {
   "cell_type": "code",
   "execution_count": null,
   "metadata": {},
   "outputs": [],
   "source": [
    "# Helper Function\n",
    "def statistics_summary(data, display=True):\n",
    "    \"\"\"\n",
    "    function to print the whole set of \n",
    "    summary statistics in tabular form\n",
    "\n",
    "    @parameter data - is a list of values\n",
    "    @parameter display - enable to print out statistics to \n",
    "                         console or just return it as a list\n",
    "    \n",
    "    @return - count of all values in data\n",
    "    \"\"\"\n",
    "\n",
    "    mean      = calc_mean(data)\n",
    "    std_dv    = calc_standard_deviation(mean, data)\n",
    "    med       = median(data)\n",
    "    skw       = skewness(data)\n",
    "    \n",
    "    # if true print sumary table\n",
    "    # True by default\n",
    "    if display:\n",
    "        print(\"{0:^10s}: {1:^25s}\".format('Metric', 'Value'))\n",
    "        print(\"=\"*37)\n",
    "        print(\"{0:^10s}: {1:^25n}\".format('Mean', mean))\n",
    "        print(\"{0:^10s}: {1:^25n}\".format('StDev', std_dv))\n",
    "        print(\"{0:^10s}: {1:^25n}\".format('Median', med))\n",
    "        print(\"{0:^10s}: {1:^25n}\".format('Skewness', skw))\n",
    "    else:\n",
    "        summary_list = [\n",
    "            mean,\n",
    "            std_dv,\n",
    "            med,\n",
    "            skw,            \n",
    "        ]\n",
    "        return summary_list\n",
    "              \n",
    "def describe(file_name):\n",
    "    \"\"\"\n",
    "    function to generate a set of statistics for a given data file\n",
    "\n",
    "    @parameter file_name - name of file to read\n",
    "    \n",
    "    @return - a dict containing statistics of data in file name \n",
    "    \"\"\"\n",
    "    # read all data from csv as a dict\n",
    "    data_dict = read_csv_into_memory(file_name)\n",
    "    # initialize empty dict for storing\n",
    "    # each column's statistics\n",
    "    statistics_dict = {\n",
    "        \"Stats\" : [\"Mean\",\"Stdev\",\"Median\",\"Skewness\"]\n",
    "    }\n",
    "    \n",
    "    for column, values in data_dict.items():\n",
    "        summary_list = statistics_summary(values, False)\n",
    "        statistics_dict[column] = summary_list\n",
    "        \n",
    "    return statistics_dict\n",
    "\n",
    "describe('task1.csv')"
   ]
  },
  {
   "cell_type": "markdown",
   "metadata": {
    "deletable": false
   },
   "source": [
    "### Requirement FR8 - Develop a function to print a custom table"
   ]
  },
  {
   "cell_type": "code",
   "execution_count": null,
   "metadata": {},
   "outputs": [],
   "source": [
    "# add code here\n",
    "# Helper Functions\n",
    "def transpose_dict(data_dict):\n",
    "    # swaps rows with columns\n",
    "    new_dict = {}\n",
    "    cols = []\n",
    "    added = False\n",
    "    for ind, metric in enumerate(data_dict['Stats']):\n",
    "        new_list = []\n",
    "        \n",
    "        for key, vals in data_dict.items():\n",
    "            if key != 'Stats': \n",
    "                new_list.append(vals[ind])\n",
    "                if not added:\n",
    "                    cols.append(key)\n",
    "        added = True\n",
    "        new_dict[metric] = new_list\n",
    "    new_dict['Columns'] = cols\n",
    "    return new_dict\n",
    "\n",
    "    \n",
    "def get_col_name_by_index(file_name, index, cols):\n",
    "    with open(file_name, 'r') as f:\n",
    "        lines = f.readlines()\n",
    "        \n",
    "        # get column name by index\n",
    "        col_name = lines[0].split(',')[index]\n",
    "        \n",
    "        return col_name\n",
    "        \n",
    "def summary_table(file_name, border_char='*', columns=[]):\n",
    "    \"\"\"\n",
    "    function to print a custom table of summary dict\n",
    "\n",
    "    @parameter file_name - name of file to read\n",
    "    @parameter border_char - character to use for table borders\n",
    "    @parameter columns - list of indexes represeting columns\n",
    "    \n",
    "    @return - Null\n",
    "    \"\"\"\n",
    "    c = border_char\n",
    "    # check if any columns were specified\n",
    "    if len(columns) == 0:\n",
    "        return 'No columns specified'\n",
    "    _summary_dict = describe(file_name)\n",
    "    \n",
    "    \n",
    "    # get column names in the order provided\n",
    "    col_names = []\n",
    "    for ind in columns:\n",
    "        col_names.append(get_col_name_by_index(file_name, ind, columns))\n",
    "    summary_dict = {}\n",
    "    for col in col_names:\n",
    "        col = col.replace('\\n','')\n",
    "        summary_dict[col] = _summary_dict[col]\n",
    "    summary_dict['Stats'] = _summary_dict['Stats']\n",
    "    summary_dict_t = transpose_dict(summary_dict)\n",
    "    col_names = summary_dict_t['Columns']\n",
    "    \n",
    "    col_str = ''\n",
    "    col_str_done = False\n",
    "    \n",
    "    full_width = 0\n",
    "    col_widths = [len(col) for col in col_names]\n",
    "    all_rows = []\n",
    "    \n",
    "    \n",
    "    for key, vals in summary_dict_t.items():\n",
    "        row_str = ''        \n",
    "\n",
    "        for i in range(len(col_names)):\n",
    "            if vals[i].__class__ == int:\n",
    "                d_type = 'n'\n",
    "                pos    = '<'\n",
    "            elif vals[i].__class__ == float:\n",
    "                d_type = '.2f'\n",
    "                pos    = '<'\n",
    "            else:\n",
    "                d_type = 's'\n",
    "                pos    = '^'\n",
    "\n",
    "            row_str += \"{\" + f\"{i}\" + f\":{pos}\" + f\"{col_widths[i]+4}{d_type}\" + \"}\" + f\" {c} \"\n",
    "            if not col_str_done:\n",
    "                col_str += \"{\" + f\"{i}\" + f\":^\" + f\"{col_widths[i]+4}s\" + \"}\" + f\" {c} \"\n",
    "\n",
    "        # print(row_str)\n",
    "\n",
    "        a = row_str.format(*vals)\n",
    "        full_width = len(a)-1\n",
    "        all_rows.append(a)\n",
    "        col_str = col_str.format(*col_names)\n",
    "        col_str_done = True\n",
    "        \n",
    "    \n",
    "    print(f'           {c*(full_width+2)}', end='\\n')\n",
    "    print(f'           {c}', col_str)\n",
    "    print(f'{c*(full_width+13)}')\n",
    "    print(f'{c} Mean     {c}',all_rows[0])\n",
    "    print(f'{c} Stdev    {c}',all_rows[1])\n",
    "    print(f'{c} Median   {c}',all_rows[2])\n",
    "    print(f'{c} Skewness {c}',all_rows[3])   \n",
    "    print(f'{c*(full_width+13)}', end='')\n",
    "\n",
    "summary_table('task1.csv', '*', [6,3,4,2,1])"
   ]
  },
  {
   "cell_type": "markdown",
   "metadata": {
    "deletable": false
   },
   "source": [
    "# Process Development Report for Programming Task 1\n"
   ]
  },
  {
   "cell_type": "markdown",
   "metadata": {},
   "source": [
    "### Introduction\n",
    "We had a period from 15 February 2022 to 12 May 2022 as we worked on using built-in python functions to work on given CSV file task1.csv and a list of values to generate outputs such as statistical values like mean, median, standard deviation, skewness and generate some summary statistics.\n",
    "\n",
    "### Challenges  \n",
    "Some of the challenges it has easy as we had to learn and be accustomed to modern technologies in a popular Data Science Language-Python and ‘get our feet wet and the use of GitLab for course work submission over the study of the course relating to Programming for Data Science over a brief period. \n",
    "Some parts of the task like FR5 to FR7 difficult to do at first then I figured it after good research and reading python documentation and lecture materials.\n",
    "\n",
    "### How I carried out the task\n",
    "For FRI, I could have added code to check if the list was empty, so it returns a prompt or I could have used the fmean function which has been added to the Python library in python 3.4 and above. Also, the output mean should be made to return a float for python 2 and below by adding float(mean).\n",
    "My solution finds the mean based on the length of the given list given calculated using len\n",
    "\n",
    "For FR2\n",
    "This computed the population mean as the whole list was available for use, the sample mean could also have been computed. My solution first referred to the mean from FR1, calculated the deviations from the means and their variance and then finally the standard deviation\n",
    "\n",
    "For FR3,To find the median of a set of numbers, the numbers had to be sorted in ascending order first and if the numbers add to an even count, the middle two numbers were averaged to get the median else if the length of the list of  odd the number is just picked as the median\n",
    "For FR4 to be computed, FR1 to FR3 had to be computed and their respective functions referred to in the skewness function.Using the relation \n",
    "skewness= 3(Mean-Median)/Standard Devaition .Its output a skewness of of zero(0) meaning the distribution is perfectly symmetric reflecting the distribution of a normal distribution.(‘1.3.5.11. Measures of Skewness and Kurtosis’, 2022)\n",
    "For FR5,After reading in the data-csv file,the function read the a  specific column of data(series) are requested as per the Appendix 1.\n",
    "For FR6,making use of the function in FR5 the function read in all the contents of the file outputed it out in a dictionary \n",
    "For FR7,using the statistics from FR!1 to FR4 the function should return a dictionary containing all calculated statistics for each column plus an extra entry showing the name of each statistic. An illustration of this is given in Appendix 3.\n",
    "For FR8,making use of the statistics generated in FR7. The function should also offer customisable options including which border character to use and which columns to output. An illustration of this is given in Appendix 4\n",
    "(‘statistics — Mathematical statistics functions — Python 3.10.4 documentation, 2019)\n",
    "\n",
    "### Learning Experience\n",
    "In the end, some of the learning outcomes it has also exposed me to the fact that most tasks can be accomplished using inbuilt python functions, methods and libraries and it has made me gain a deeper understanding of core python itself and a sense of developing my algorithm which will solve the problem best, efficient as well for a  given problem at hand \n",
    "Next time I will make more full use of resources available online and references brought to my attention during the coursework and get accustomed to them as soon as possible so it becomes first-hand.\n",
    "\n",
    "### References\n",
    "‘1.3.5.11. Measures of Skewness and Kurtosis’ (2022) Nist.gov.2022 [online]. Available from: https://www.itl.nist.gov/div898/handbook/eda/section3/eda35b.htm#:~:text=The%20skewness%20for%20a%20normal,data%20that%20are%20skewed%20right. [Accessed 15 May 2022].\n",
    "‘Manish Kumar’ (2021) Zenesys.2021 [online]. Available from: https://www.zenesys.com/blog/coding-standards-and-best-practices-for-python-code-quality [Accessed 7 April 2022].\n",
    "‘statistics — Mathematical statistics functions — Python 3.10.4 documentation’ (2019) Python.org.2019 [online]. Available from: https://docs.python.org/3/library/statistics.html#statistics.mean [Accessed 7 April 2022].\n",
    "\n",
    "\n",
    "\n",
    "\n"
   ]
  }
 ],
 "metadata": {
  "kernelspec": {
   "display_name": "Python 3",
   "language": "python",
   "name": "python3"
  },
  "language_info": {
   "codemirror_mode": {
    "name": "ipython",
    "version": 3
   },
   "file_extension": ".py",
   "mimetype": "text/x-python",
   "name": "python",
   "nbconvert_exporter": "python",
   "pygments_lexer": "ipython3",
   "version": "3.10.2"
  }
 },
 "nbformat": 4,
 "nbformat_minor": 4
}
