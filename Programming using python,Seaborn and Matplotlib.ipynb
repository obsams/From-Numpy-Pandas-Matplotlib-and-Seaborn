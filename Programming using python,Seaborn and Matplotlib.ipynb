{
 "cells": [
  {
   "cell_type": "markdown",
   "metadata": {
    "deletable": false
   },
   "source": [
    "### Requirement FR9 - Read CSV data from two files and merge it into a single Data Frame "
   ]
  },
  {
   "cell_type": "code",
   "execution_count": 4,
   "metadata": {},
   "outputs": [
    {
     "data": {
      "text/html": [
       "<div>\n",
       "<style scoped>\n",
       "    .dataframe tbody tr th:only-of-type {\n",
       "        vertical-align: middle;\n",
       "    }\n",
       "\n",
       "    .dataframe tbody tr th {\n",
       "        vertical-align: top;\n",
       "    }\n",
       "\n",
       "    .dataframe thead th {\n",
       "        text-align: right;\n",
       "    }\n",
       "</style>\n",
       "<table border=\"1\" class=\"dataframe\">\n",
       "  <thead>\n",
       "    <tr style=\"text-align: right;\">\n",
       "      <th></th>\n",
       "      <th>timestamp</th>\n",
       "      <th>new_bike_shares</th>\n",
       "      <th>temperature</th>\n",
       "      <th>feels_like_temp</th>\n",
       "      <th>humidity</th>\n",
       "      <th>wind_speed</th>\n",
       "      <th>is_weekend</th>\n",
       "      <th>season_code</th>\n",
       "    </tr>\n",
       "  </thead>\n",
       "  <tbody>\n",
       "    <tr>\n",
       "      <th>0</th>\n",
       "      <td>04/01/2015 00:00</td>\n",
       "      <td>182</td>\n",
       "      <td>3.0</td>\n",
       "      <td>2.0</td>\n",
       "      <td>93.0</td>\n",
       "      <td>6.0</td>\n",
       "      <td>1</td>\n",
       "      <td>3</td>\n",
       "    </tr>\n",
       "    <tr>\n",
       "      <th>1</th>\n",
       "      <td>04/01/2015 01:00</td>\n",
       "      <td>138</td>\n",
       "      <td>3.0</td>\n",
       "      <td>2.5</td>\n",
       "      <td>93.0</td>\n",
       "      <td>5.0</td>\n",
       "      <td>1</td>\n",
       "      <td>3</td>\n",
       "    </tr>\n",
       "    <tr>\n",
       "      <th>2</th>\n",
       "      <td>04/01/2015 02:00</td>\n",
       "      <td>134</td>\n",
       "      <td>2.5</td>\n",
       "      <td>2.5</td>\n",
       "      <td>96.5</td>\n",
       "      <td>0.0</td>\n",
       "      <td>1</td>\n",
       "      <td>3</td>\n",
       "    </tr>\n",
       "    <tr>\n",
       "      <th>3</th>\n",
       "      <td>04/01/2015 03:00</td>\n",
       "      <td>72</td>\n",
       "      <td>2.0</td>\n",
       "      <td>2.0</td>\n",
       "      <td>100.0</td>\n",
       "      <td>0.0</td>\n",
       "      <td>1</td>\n",
       "      <td>3</td>\n",
       "    </tr>\n",
       "    <tr>\n",
       "      <th>4</th>\n",
       "      <td>04/01/2015 04:00</td>\n",
       "      <td>47</td>\n",
       "      <td>2.0</td>\n",
       "      <td>0.0</td>\n",
       "      <td>93.0</td>\n",
       "      <td>6.5</td>\n",
       "      <td>1</td>\n",
       "      <td>3</td>\n",
       "    </tr>\n",
       "  </tbody>\n",
       "</table>\n",
       "</div>"
      ],
      "text/plain": [
       "          timestamp  new_bike_shares  temperature  feels_like_temp  humidity  \\\n",
       "0  04/01/2015 00:00              182          3.0              2.0      93.0   \n",
       "1  04/01/2015 01:00              138          3.0              2.5      93.0   \n",
       "2  04/01/2015 02:00              134          2.5              2.5      96.5   \n",
       "3  04/01/2015 03:00               72          2.0              2.0     100.0   \n",
       "4  04/01/2015 04:00               47          2.0              0.0      93.0   \n",
       "\n",
       "   wind_speed  is_weekend  season_code  \n",
       "0         6.0           1            3  \n",
       "1         5.0           1            3  \n",
       "2         0.0           1            3  \n",
       "3         0.0           1            3  \n",
       "4         6.5           1            3  "
      ]
     },
     "execution_count": 4,
     "metadata": {},
     "output_type": "execute_result"
    }
   ],
   "source": [
    "# Import task2a.csv with 2 rows as a dataframe df1 and task2b.csv with 7 columns as df2 and then merge it into a single data frame df\n",
    "import pandas as pd\n",
    "import glob\n",
    "import seaborn as sns\n",
    "import matplotlib.pyplot as plt\n",
    "df1=pd.read_csv(\"D:/UWE/Programming for Data Science/Assignment/task2a.csv\")\n",
    "df2=pd.read_csv(\"D:/UWE/Programming for Data Science/Assignment/task2b.csv\")\n",
    "df=pd.merge(df1,df2)\n",
    "df.head(5)"
   ]
  },
  {
   "cell_type": "markdown",
   "metadata": {
    "deletable": false
   },
   "source": [
    "### Requirement FR10 - Clean the merged data"
   ]
  },
  {
   "cell_type": "code",
   "execution_count": 5,
   "metadata": {},
   "outputs": [],
   "source": [
    "# Clean the single merged dataframe by removing all rows from the merged data whose bikes shares value is less than 20.\n",
    "df=df[df.new_bike_shares>19]\n",
    "#Removing the season_code column\n",
    "df=df.drop(columns = ['season_code'])"
   ]
  },
  {
   "cell_type": "code",
   "execution_count": 6,
   "metadata": {},
   "outputs": [
    {
     "data": {
      "text/plain": [
       "timestamp          0\n",
       "new_bike_shares    0\n",
       "temperature        0\n",
       "feels_like_temp    0\n",
       "humidity           0\n",
       "wind_speed         0\n",
       "is_weekend         0\n",
       "dtype: int64"
      ]
     },
     "execution_count": 6,
     "metadata": {},
     "output_type": "execute_result"
    }
   ],
   "source": [
    "#Checking for null values present in the data\n",
    "df.isnull().sum()"
   ]
  },
  {
   "cell_type": "markdown",
   "metadata": {},
   "source": [
    "From the above, there are no null values present in the data"
   ]
  },
  {
   "cell_type": "code",
   "execution_count": 7,
   "metadata": {},
   "outputs": [
    {
     "data": {
      "text/plain": [
       "0"
      ]
     },
     "execution_count": 7,
     "metadata": {},
     "output_type": "execute_result"
    }
   ],
   "source": [
    "#Checking for duplicate values in the data\n",
    "df.duplicated().sum()"
   ]
  },
  {
   "cell_type": "markdown",
   "metadata": {},
   "source": [
    "Also, there are not duplicate values present in the data"
   ]
  },
  {
   "cell_type": "code",
   "execution_count": 8,
   "metadata": {},
   "outputs": [
    {
     "name": "stdout",
     "output_type": "stream",
     "text": [
      "<class 'pandas.core.frame.DataFrame'>\n",
      "Int64Index: 17373 entries, 0 to 17413\n",
      "Data columns (total 7 columns):\n",
      " #   Column           Non-Null Count  Dtype  \n",
      "---  ------           --------------  -----  \n",
      " 0   timestamp        17373 non-null  object \n",
      " 1   new_bike_shares  17373 non-null  int64  \n",
      " 2   temperature      17373 non-null  float64\n",
      " 3   feels_like_temp  17373 non-null  float64\n",
      " 4   humidity         17373 non-null  float64\n",
      " 5   wind_speed       17373 non-null  float64\n",
      " 6   is_weekend       17373 non-null  int64  \n",
      "dtypes: float64(4), int64(2), object(1)\n",
      "memory usage: 1.1+ MB\n"
     ]
    }
   ],
   "source": [
    "#Checking the info of the dataset\n",
    "df.info()"
   ]
  },
  {
   "cell_type": "markdown",
   "metadata": {},
   "source": [
    "All the data are numeric except the timestamp column, the timestamp column will be converted to a datetime"
   ]
  },
  {
   "cell_type": "code",
   "execution_count": 9,
   "metadata": {},
   "outputs": [
    {
     "name": "stdout",
     "output_type": "stream",
     "text": [
      "<class 'pandas.core.frame.DataFrame'>\n",
      "Int64Index: 17373 entries, 0 to 17413\n",
      "Data columns (total 7 columns):\n",
      " #   Column           Non-Null Count  Dtype         \n",
      "---  ------           --------------  -----         \n",
      " 0   timestamp        17373 non-null  datetime64[ns]\n",
      " 1   new_bike_shares  17373 non-null  int64         \n",
      " 2   temperature      17373 non-null  float64       \n",
      " 3   feels_like_temp  17373 non-null  float64       \n",
      " 4   humidity         17373 non-null  float64       \n",
      " 5   wind_speed       17373 non-null  float64       \n",
      " 6   is_weekend       17373 non-null  int64         \n",
      "dtypes: datetime64[ns](1), float64(4), int64(2)\n",
      "memory usage: 1.1 MB\n"
     ]
    }
   ],
   "source": [
    "# converting the timestamp column into a datetime \n",
    "df['timestamp'] = pd.to_datetime(df['timestamp'])\n",
    "df.info()"
   ]
  },
  {
   "cell_type": "markdown",
   "metadata": {},
   "source": [
    "From the above, the timestamp column is now a datetime"
   ]
  },
  {
   "cell_type": "markdown",
   "metadata": {
    "deletable": false
   },
   "source": [
    "### Requirement FR11 - Investigate the distribution of bike shares by time of the day"
   ]
  },
  {
   "cell_type": "code",
   "execution_count": 10,
   "metadata": {},
   "outputs": [],
   "source": [
    "#Creating a new column for the time of the day\n",
    "# And adding one to it, to make it more readable (since we have 24 hours in a day and in python, counting starts from 0 )\n",
    "\n",
    "df['time'] = df['timestamp'].dt.hour + 1"
   ]
  },
  {
   "cell_type": "code",
   "execution_count": 11,
   "metadata": {},
   "outputs": [
    {
     "data": {
      "text/plain": [
       "17    730\n",
       "13    729\n",
       "16    729\n",
       "19    728\n",
       "18    728\n",
       "14    728\n",
       "15    728\n",
       "21    727\n",
       "20    727\n",
       "10    727\n",
       "12    727\n",
       "22    726\n",
       "7     726\n",
       "8     726\n",
       "23    725\n",
       "11    725\n",
       "1     724\n",
       "9     724\n",
       "2     722\n",
       "24    722\n",
       "6     720\n",
       "5     714\n",
       "3     713\n",
       "4     698\n",
       "Name: time, dtype: int64"
      ]
     },
     "execution_count": 11,
     "metadata": {},
     "output_type": "execute_result"
    }
   ],
   "source": [
    "df['time'].value_counts()"
   ]
  },
  {
   "cell_type": "code",
   "execution_count": 12,
   "metadata": {},
   "outputs": [
    {
     "name": "stderr",
     "output_type": "stream",
     "text": [
      "C:\\Users\\Samuel PC\\AppData\\Local\\Programs\\Python\\Python310\\lib\\site-packages\\seaborn\\_decorators.py:36: FutureWarning: Pass the following variable as a keyword arg: x. From version 0.12, the only valid positional argument will be `data`, and passing other arguments without an explicit keyword will result in an error or misinterpretation.\n",
      "  warnings.warn(\n"
     ]
    },
    {
     "data": {
      "image/png": "[encoded data removed]",
      "text/plain": [
       "<Figure size 432x288 with 1 Axes>"
      ]
     },
     "metadata": {
      "needs_background": "light"
     },
     "output_type": "display_data"
    }
   ],
   "source": [
    "sns.countplot(df['time'])\n",
    "plt.show()"
   ]
  },
  {
   "cell_type": "markdown",
   "metadata": {},
   "source": [
    "There are an almost equal distributions for each time of the day"
   ]
  },
  {
   "cell_type": "markdown",
   "metadata": {
    "deletable": false
   },
   "source": [
    "### Requirement FR12 - Compare the distribution of bike shares by time of the week"
   ]
  },
  {
   "cell_type": "code",
   "execution_count": 13,
   "metadata": {},
   "outputs": [],
   "source": [
    "# creating a new column for the week\n",
    "df['week'] = df['timestamp'].dt.weekday"
   ]
  },
  {
   "cell_type": "code",
   "execution_count": 14,
   "metadata": {},
   "outputs": [
    {
     "data": {
      "text/plain": [
       "2    2512\n",
       "4    2502\n",
       "5    2502\n",
       "3    2490\n",
       "0    2476\n",
       "6    2449\n",
       "1    2442\n",
       "Name: week, dtype: int64"
      ]
     },
     "execution_count": 14,
     "metadata": {},
     "output_type": "execute_result"
    }
   ],
   "source": [
    "df.week.value_counts()"
   ]
  },
  {
   "cell_type": "code",
   "execution_count": 15,
   "metadata": {},
   "outputs": [
    {
     "name": "stderr",
     "output_type": "stream",
     "text": [
      "C:\\Users\\Samuel PC\\AppData\\Local\\Programs\\Python\\Python310\\lib\\site-packages\\seaborn\\_decorators.py:36: FutureWarning: Pass the following variable as a keyword arg: x. From version 0.12, the only valid positional argument will be `data`, and passing other arguments without an explicit keyword will result in an error or misinterpretation.\n",
      "  warnings.warn(\n"
     ]
    },
    {
     "data": {
      "image/png": "[encoded data removed]",
      "text/plain": [
       "<Figure size 432x288 with 1 Axes>"
      ]
     },
     "metadata": {
      "needs_background": "light"
     },
     "output_type": "display_data"
    }
   ],
   "source": [
    "#Since the day of the week is a categorical variable, then it is best countplot\n",
    "sns.countplot(df['week'])\n",
    "plt.show()"
   ]
  },
  {
   "cell_type": "markdown",
   "metadata": {},
   "source": [
    "There are almost equal distributions for each day of the week with slight variations"
   ]
  },
  {
   "cell_type": "markdown",
   "metadata": {
    "deletable": false
   },
   "source": [
    "### Requirement FR13 - Investigate the effects of “feels like” temperature on the number of bike shares"
   ]
  },
  {
   "cell_type": "code",
   "execution_count": 16,
   "metadata": {},
   "outputs": [
    {
     "name": "stderr",
     "output_type": "stream",
     "text": [
      "C:\\Users\\Samuel PC\\AppData\\Local\\Programs\\Python\\Python310\\lib\\site-packages\\seaborn\\distributions.py:2619: FutureWarning: `distplot` is a deprecated function and will be removed in a future version. Please adapt your code to use either `displot` (a figure-level function with similar flexibility) or `histplot` (an axes-level function for histograms).\n",
      "  warnings.warn(msg, FutureWarning)\n"
     ]
    },
    {
     "data": {
      "image/png": "[encoded data removed]",
      "text/plain": [
       "<Figure size 432x288 with 1 Axes>"
      ]
     },
     "metadata": {
      "needs_background": "light"
     },
     "output_type": "display_data"
    }
   ],
   "source": [
    "# Selecting the feels_like_temp\n",
    "sns.distplot(df['feels_like_temp'], bins = 15)\n",
    "plt.show()"
   ]
  },
  {
   "cell_type": "markdown",
   "metadata": {},
   "source": [
    "From the above, there is a gradual increment from -10 to 15 and then after 15, there is a gradual decline in the amount of bike share"
   ]
  },
  {
   "cell_type": "markdown",
   "metadata": {
    "deletable": false
   },
   "source": [
    "### Requirement FR14 - Test the hypothesis that “feels like” temperature has an effect on the number of bike shares"
   ]
  },
  {
   "cell_type": "code",
   "execution_count": 17,
   "metadata": {},
   "outputs": [
    {
     "data": {
      "image/png": "[encoded data removed]",
      "text/plain": [
       "<Figure size 432x288 with 1 Axes>"
      ]
     },
     "metadata": {
      "needs_background": "light"
     },
     "output_type": "display_data"
    }
   ],
   "source": [
    "#Checking the scatter plot of the frequency\n",
    "\n",
    "data = df['feels_like_temp'].value_counts()\n",
    "data = dict(data)\n",
    "freq = []\n",
    "temp = []\n",
    "\n",
    "for f, t in data.items():\n",
    "    freq.append(f)\n",
    "    temp.append(t)\n",
    "    \n",
    "plt.scatter(freq, temp)\n",
    "plt.show()"
   ]
  },
  {
   "cell_type": "code",
   "execution_count": 20,
   "metadata": {},
   "outputs": [
    {
     "data": {
      "text/plain": [
       "array([[ 1.        , -0.19418246],\n",
       "       [-0.19418246,  1.        ]])"
      ]
     },
     "execution_count": 20,
     "metadata": {},
     "output_type": "execute_result"
    }
   ],
   "source": [
    "import numpy as np\n",
    "np.corrcoef(freq, temp)\n"
   ]
  },
  {
   "cell_type": "markdown",
   "metadata": {},
   "source": [
    "With a correlation coeefficient of -0.19,there is negative correlation"
   ]
  },
  {
   "cell_type": "markdown",
   "metadata": {},
   "source": [
    "### Introduction\n",
    "We had a period from 15 February 2022 to 12 May 2022 as we worked on using built-in python functions, NumPy, Pandas and visualizations libraries like Matplotlib, seaborn and SciPy on given CSV files and a list of values to generate outputs such as statistical values like mean, median, standard deviation.\n",
    "### Challenges\n",
    "Some of the challenges it has easy as we had to learn and be accustomed to modern technologies in a popular Data Science Language-Python and us going and the use of GitLab for course work submission over the study of the course relating to Programming for Data Science over a brief period. \n",
    "Some parts of the task 2 like FR11-14 were difficult for me to accomplish but after much research using lecture materials and documentation was able to figure it out.\n",
    "How I conducted the tasks\n",
    "For FR9-I read in the 2 CSV files as data frames and used the pandas merge to add them together.\n",
    "For FR10-I edited the merged data frame from FR9 and used, other methods existed to get the same outputs in pandas. I used to drop and df[df.new_bike shares>19]\n",
    "The data set has no null values and no duplicates. To work with the datetime column values in a graph it has to be converted to a datetime first, this is done using the import method in python. (‘User Guide — pandas 1.4.2 documentation’, 2022)\n",
    "For FR 11-To compare the distribution of bikes shares by time of the day using visualisation of a countplot since we are working with a discrete variable which is time of the day and week, from the visualisation there was even distribution throughout the day. Times of the days were assigned 0 to 24 for readability’s sake. (‘datetime — Basic date and time types — Python 3.10.4 documentation’, 2019), (‘seaborn: statistical data visualization — seaborn 0.11.2 documentation’, 2012)\n",
    "For FR12, comparing the distribution of bikes shares by the time of the week. Days of the week were assigned 0 to 6 to represent Monday to Sunday, respectively. There was almost even distribution throughout the week also with some slight variations. (‘datetime — Basic date and time types — Python 3.10.4 documentation’, 2019), (‘seaborn: statistical data visualization — seaborn 0.11.2 documentation’, 2012)\n",
    "For FR13, investigating the effects of “feels like “temperature on the number of bikes shares, a distribution was used to account for the continuous variable with bins of 15 used. From the visualisation, there was a gradual increase in bikes shares like as the temperature rose from -10 to almost midway between 10 to 15, then it fell towards 30. (‘seaborn: statistical data visualization — seaborn 0.11.2 documentation’, 2012)\n",
    "For FR14, for the hypothesis testing of “feels like “temperature on the number of bikes shares, a scatter plot was plotted to see if there a sort of correlation existed. A value of -0.19 representing a negative correlation which means as one variable increases the other variable decreases and vice versa. (‘numpy.corrcoef — NumPy v1.22 Manual’, 2022)\n",
    "\n",
    "### Learning Experiences \n",
    "In the end, some of the learning outcomes include it has paid off as a positive experience as such an assignment has covered the introduction to python and the basics tools used in python data science like NumPy, Pandas, matplotlib and seaborn and extended to scipy too.\n",
    "### Conclusion\n"
   ]
  },
  {
   "cell_type": "markdown",
   "metadata": {},
   "source": [
    "The assignment has exposed me to a variety of tools especially in pandas, seaborn and matplotlib that I can use if python's built-in functions are not enough.\n",
    "Next time I will make more full use of resources available online and references brought to my attention during the coursework and get accustomed to them as soon as possible so it becomes first-hand and continue my learning process quickly.\n",
    "\n",
    "### References\n",
    "‘datetime — Basic date and time types — Python 3.10.4 documentation’ (2019) Python.org.2019 [online]. Available from: https://docs.python.org/3/library/datetime.html [Accessed 15 May 2022].\n",
    "‘Matplotlib documentation — Matplotlib 3.5.2 documentation’ (2012) Matplotlib.org.2012 [online]. Available from: https://matplotlib.org/stable/index.html [Accessed 15 May 2022].\n",
    "‘numpy.corrcoef — NumPy v1.22 Manual’ (2022) Numpy.org.2022 [online]. Available from: https://numpy.org/doc/stable/reference/generated/numpy.corrcoef.html [Accessed 15 May 2022].\n",
    "‘SciPy User Guide — SciPy v1.8.0 Manual’ (2022) Scipy.org.2022 [online]. Available from: https://docs.scipy.org/doc/scipy/tutorial/index.html#user-guide [Accessed 12 May 2022].\n",
    "‘seaborn: statistical data visualization — seaborn 0.11.2 documentation’ (2012) Pydata.org.2012 [online]. Available from: https://seaborn.pydata.org/index.html [Accessed 12 May 2022].\n",
    "‘User Guide — pandas 1.4.2 documentation’ (2022) Pydata.org.2022 [online]. Available from: https://pandas.pydata.org/docs/user_guide/index.html#user-guide [Accessed 12 May 2022].\n",
    "\n",
    "\n",
    "\n",
    "\n",
    "\n"
   ]
  }
 ],
 "metadata": {
  "kernelspec": {
   "display_name": "Python 3",
   "language": "python",
   "name": "python3"
  },
  "language_info": {
   "codemirror_mode": {
    "name": "ipython",
    "version": 3
   },
   "file_extension": ".py",
   "mimetype": "text/x-python",
   "name": "python",
   "nbconvert_exporter": "python",
   "pygments_lexer": "ipython3",
   "version": "3.10.2"
  }
 },
 "nbformat": 4,
 "nbformat_minor": 4
}
